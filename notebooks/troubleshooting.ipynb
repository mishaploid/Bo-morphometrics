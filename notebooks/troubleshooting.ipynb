{
 "cells": [
  {
   "cell_type": "markdown",
   "metadata": {},
   "source": [
    "## B. oleracea troubleshooting\n",
    "https://hub.mybinder.org/user/danforthcenter-plantcv-binder-4b6sew5l/notebooks/notebooks/multi_plant_tutorial.ipynb"
   ]
  },
  {
   "cell_type": "markdown",
   "metadata": {},
   "source": [
    "### Load required packages"
   ]
  },
  {
   "cell_type": "code",
   "execution_count": null,
   "metadata": {},
   "outputs": [],
   "source": [
    "import numpy as np\n",
    "from plantcv import plantcv as pcv\n",
    "import cv2 \n",
    "import os"
   ]
  },
  {
   "cell_type": "markdown",
   "metadata": {},
   "source": [
    "### Define options\n",
    "change input image here "
   ]
  },
  {
   "cell_type": "code",
   "execution_count": 179,
   "metadata": {},
   "outputs": [],
   "source": [
    "class options:\n",
    "    def __init__(self):\n",
    "        self.image = \"../segmented_images/B_oleracea001_A_0_p0_mask.jpg\"\n",
    "        self.debug = \"plot\"\n",
    "        self.writeimg= False \n",
    "        self.result = \"./troubleshooting_results\"\n",
    "        self.outdir = \"./troubleshooting_results\"\n",
    "# Get options\n",
    "args = options()\n",
    "\n",
    "# Set debug to the global parameter \n",
    "pcv.params.debug = args.debug"
   ]
  },
  {
   "cell_type": "markdown",
   "metadata": {},
   "source": [
    "### Read in target image "
   ]
  },
  {
   "cell_type": "code",
   "execution_count": 180,
   "metadata": {},
   "outputs": [
    {
     "data": {
      "image/png": "[encoded data removed]",
      "text/plain": [
       "<Figure size 600x400 with 1 Axes>"
      ]
     },
     "metadata": {
      "needs_background": "light"
     },
     "output_type": "display_data"
    },
    {
     "data": {
      "image/png": "[encoded data removed]",
      "text/plain": [
       "<Figure size 600x400 with 1 Axes>"
      ]
     },
     "metadata": {
      "needs_background": "light"
     },
     "output_type": "display_data"
    },
    {
     "data": {
      "image/png": "[encoded data removed]",
      "text/plain": [
       "<Figure size 600x400 with 1 Axes>"
      ]
     },
     "metadata": {
      "needs_background": "light"
     },
     "output_type": "display_data"
    }
   ],
   "source": [
    "img1, path, filename = pcv.readimage(args.image)\n",
    "img2 = pcv.invert(img1)\n",
    "img2 = pcv.rotate(img2, 40, False)"
   ]
  },
  {
   "cell_type": "markdown",
   "metadata": {},
   "source": [
    "### STEP 3: Convert from RGB colorspace to LAB colorspace\n",
    "Keep green-magenta channel (a)  \n",
    "\n",
    "Output is a grayscale image\n",
    "\n",
    "inputs:\n",
    "* img = image object, RGB colorspace\n",
    "* channel = color subchannel ('l' = lightness, 'a' = green-magenta, 'b' = blue-yellow)"
   ]
  },
  {
   "cell_type": "code",
   "execution_count": null,
   "metadata": {},
   "outputs": [],
   "source": [
    "a = pcv.rgb2gray_lab(img1, 'a')\n",
    "b = pcv.rgb2gray_lab(img1, 'b') \n",
    "l = pcv.rgb2gray_lab(img1, 'l')\n",
    "# select blue to yellow colorspace (try it out I guess?)"
   ]
  },
  {
   "cell_type": "markdown",
   "metadata": {},
   "source": [
    "### STEP 4: Set a binary threshold on the saturation channel image\n",
    "inputs:\n",
    "* img = img object, grayscale\n",
    "* threshold = treshold value (0-255) - need to adjust this\n",
    "* max_value = value to apply above treshold (255 = white)\n",
    "* object_type = light or dark"
   ]
  },
  {
   "cell_type": "code",
   "execution_count": null,
   "metadata": {
    "scrolled": true
   },
   "outputs": [],
   "source": [
    "# could use Otsu treshold, but doesn't seem to work as well \n",
    "# img_binary = pcv.threshold.otsu(masked2, 255, object_type = \"dark\")\n",
    "# was using 118/120 \n",
    "img_binarya = pcv.threshold.binary(a, 118, 255, object_type = \"dark\") # 118\n",
    "img_binarya2 = pcv.threshold.binary(a, 128, 255, object_type = \"light\") # 128\n",
    "img_binaryb = pcv.threshold.binary(b, 132, 255, object_type = \"light\") # 132"
   ]
  },
  {
   "cell_type": "code",
   "execution_count": null,
   "metadata": {},
   "outputs": [],
   "source": [
    "# try using l channel\n",
    "img_binaryl = pcv.threshold.binary(l, 140, 255, object_type = \"dark\")"
   ]
  },
  {
   "cell_type": "code",
   "execution_count": null,
   "metadata": {},
   "outputs": [],
   "source": [
    "test = cv2.add(img_binarya, img_binarya2)\n",
    "test = cv2.add(test, img_binaryb)\n",
    "test = cv2.add(test, img_binaryl)\n",
    "\n",
    "# test = img_binarya\n",
    "\n",
    "test = cv2.add(img_binaryb, img_binaryl)\n",
    "\n",
    "masked, binary, contours, hierarchy = pcv.rectangle_mask(test, (0, 2000), (1300, 4000), color = \"black\")\n",
    "# masked, binary, contours, hierarchy = pcv.rectangle_mask(masked, (3025, 0), (3100, 4000))\n",
    "# masked, binary, contours, hierarchy = pcv.rectangle_mask(masked, (0,0), (25,4000))\n",
    "# 0,2000 1300,4000\n",
    "# masked, binary, contours, hierarchy = pcv.rectangle_mask(masked, (3000, 0), (3100, 4000))\n",
    "# masked2, binary, contours, hierarchy = pcv.rectangle_mask(masked, (0, 3600), (4000, 4000), color = \"black\")\n",
    "# masked3, binary, contours, hierarchy = pcv.rectangle_mask(masked2, (0, 0), (4000, 40), color = \"black\")"
   ]
  },
  {
   "cell_type": "markdown",
   "metadata": {},
   "source": [
    "### STEP 5: Apply Gaussian blur to binary image (reduces noise)\n",
    "inputs:\n",
    "* img = img object, binary\n",
    "* ksize = tuple of kernel dimensions, e.g. (5,5)"
   ]
  },
  {
   "cell_type": "code",
   "execution_count": null,
   "metadata": {
    "scrolled": true
   },
   "outputs": [],
   "source": [
    "blur_image = pcv.median_blur(masked, (10, 10))"
   ]
  },
  {
   "cell_type": "markdown",
   "metadata": {},
   "source": [
    "### STEP 6: Fill small objects (speckles)\n",
    "inputs:\n",
    "* img = img object, binary\n",
    "* size = minimum object area size in pixels"
   ]
  },
  {
   "cell_type": "code",
   "execution_count": null,
   "metadata": {},
   "outputs": [],
   "source": [
    "fill_image1 = pcv.fill(blur_image, 90000) #90000"
   ]
  },
  {
   "cell_type": "markdown",
   "metadata": {},
   "source": [
    "### STEP 7: Invert image to fill gaps\n",
    "inputs:\n",
    "* img = img object, binary\n",
    "\n",
    "Then rerun fill on inverted image to fill small gaps & re-invert"
   ]
  },
  {
   "cell_type": "code",
   "execution_count": null,
   "metadata": {},
   "outputs": [],
   "source": [
    "inv_image = pcv.invert(fill_image1)"
   ]
  },
  {
   "cell_type": "code",
   "execution_count": null,
   "metadata": {},
   "outputs": [],
   "source": [
    "inv_fill = pcv.fill(inv_image, 25000)"
   ]
  },
  {
   "cell_type": "code",
   "execution_count": null,
   "metadata": {},
   "outputs": [],
   "source": [
    "fill_image = pcv.invert(inv_fill)"
   ]
  },
  {
   "cell_type": "markdown",
   "metadata": {},
   "source": [
    "### STEP 8: Dilate to avoid losing detail\n",
    "inputs:\n",
    "* img = img object, binary\n",
    "* ksize = kernel size\n",
    "* i = iterations (number of consecutive filtering passes)"
   ]
  },
  {
   "cell_type": "code",
   "execution_count": null,
   "metadata": {},
   "outputs": [],
   "source": [
    "dilated = pcv.dilate(fill_image, 2, 1)"
   ]
  },
  {
   "cell_type": "code",
   "execution_count": null,
   "metadata": {},
   "outputs": [],
   "source": [
    "eroded = pcv.erode(dilated, 2, 1)"
   ]
  },
  {
   "cell_type": "code",
   "execution_count": null,
   "metadata": {},
   "outputs": [],
   "source": [
    "obj_input = pcv.rotate(eroded, 40, False)"
   ]
  },
  {
   "cell_type": "markdown",
   "metadata": {},
   "source": [
    "# remove petioles\n",
    "https://stackoverflow.com/questions/42251910/opencv-leaf-petiole-removal"
   ]
  },
  {
   "cell_type": "code",
   "execution_count": 181,
   "metadata": {},
   "outputs": [
    {
     "data": {
      "image/png": "[encoded data removed]",
      "text/plain": [
       "<Figure size 600x400 with 1 Axes>"
      ]
     },
     "metadata": {
      "needs_background": "light"
     },
     "output_type": "display_data"
    },
    {
     "data": {
      "image/png": "[encoded data removed]",
      "text/plain": [
       "<Figure size 600x400 with 1 Axes>"
      ]
     },
     "metadata": {
      "needs_background": "light"
     },
     "output_type": "display_data"
    },
    {
     "data": {
      "image/png": "[encoded data removed]",
      "text/plain": [
       "<Figure size 600x400 with 1 Axes>"
      ]
     },
     "metadata": {
      "needs_background": "light"
     },
     "output_type": "display_data"
    }
   ],
   "source": [
    "dist_transform = cv2.distanceTransform(img2, cv2.DIST_L2, 5)\n",
    "ret, petiole = cv2.threshold(dist_transform, 0.06*dist_transform.max(), 255, 0)\n",
    "\n",
    "petiole = np.uint8(petiole)\n",
    "\n",
    "# pcv.invert(petiole)\n",
    "\n",
    "petiole_removed = pcv.fill(petiole, 25000)\n",
    "\n",
    "\n",
    "petiole_dilated = pcv.dilate(petiole_removed, 2, 20)\n",
    "\n",
    "\n",
    "petiole_removed = pcv.invert(petiole_removed)\n",
    "\n",
    "outdir = \"troubleshooting_results/\"\n",
    "\n",
    "file = outdir + filename\n",
    "\n",
    "# print(file)\n",
    "\n",
    "# pcv.print_image(petiole_removed, file)\n",
    "\n"
   ]
  },
  {
   "cell_type": "markdown",
   "metadata": {},
   "source": [
    "### STEP 9: Find objects (contours: black-white boundaries)\n",
    "inputs:\n",
    "* img = img object, RGB colorspace\n",
    "* mask = binary image used for object detection"
   ]
  },
  {
   "cell_type": "code",
   "execution_count": null,
   "metadata": {},
   "outputs": [],
   "source": [
    "# id_objects, obj_hierarchy = pcv.find_objects(img2, obj_input)\n",
    "id_objects, obj_hierarchy = pcv.find_objects(img2, petiole_removed)"
   ]
  },
  {
   "cell_type": "markdown",
   "metadata": {},
   "source": [
    "### STEP 10: Define region of interest (ROI)\n",
    "inputs:\n",
    "* img = img object to overlay ROI\n",
    "* x_adj = adjust center along x axis\n",
    "* y_adj = adjust center along y axis\n",
    "* w_adj = adjust width\n",
    "* h_adj = adjust height"
   ]
  },
  {
   "cell_type": "code",
   "execution_count": null,
   "metadata": {},
   "outputs": [],
   "source": [
    "# roi_contour, roi_hierarchy = pcv.roi.rectangle(img=img2, x=10, y=10, h=3400, w=3600)\n",
    "\n",
    "roi_contour, roi_hierarchy = pcv.roi.rectangle(img=img2, x=10, y=10, h=6000, w=6000)"
   ]
  },
  {
   "cell_type": "markdown",
   "metadata": {},
   "source": [
    "### STEP 11: Keep objects that overlap with the ROI\n",
    "inputs:\n",
    "* img = img where selected objects will be displayed\n",
    "* roi_type = options are 'cutto', 'partial' (objects are partially inside roi), or 'largest' (keep only the biggest boi)\n",
    "* roi_countour = contour of roi, output from 'view and adjust roi' function (STEP 10)\n",
    "* roi_hierarchy = contour of roi, output from 'view and adjust roi' function (STEP 10)\n",
    "* object_contour = contours of objects, output from 'identifying objects' function (STEP 9)\n",
    "* obj_hierarchy = hierarchy of objects, output from 'identifying objects' function (STEP 9)"
   ]
  },
  {
   "cell_type": "code",
   "execution_count": null,
   "metadata": {},
   "outputs": [],
   "source": [
    "roi_objects, roi_obj_hierarchy, kept_mask, obj_area = pcv.roi_objects(img2, \n",
    "                                                                      'partial', \n",
    "                                                                      roi_contour, \n",
    "                                                                      roi_hierarchy, \n",
    "                                                                      id_objects, \n",
    "                                                                      obj_hierarchy)"
   ]
  },
  {
   "cell_type": "markdown",
   "metadata": {},
   "source": [
    "### STEP 12: Cluster multiple contours in an image based on user input of rows/columns\n",
    "inputs:\n",
    "* img = img object (RGB colorspace)\n",
    "* roi_objects = object contours in an image that will be clustered (output from STEP 11)\n",
    "* roi_obj_hierarchy = object hierarchy (also from STEP 11)\n",
    "* nrow = number of rows for clustering (desired rows in image even if no leaf present in all)\n",
    "* ncol = number of columns to cluster (desired columns in image even if no leaf present in all)"
   ]
  },
  {
   "cell_type": "code",
   "execution_count": null,
   "metadata": {
    "scrolled": true
   },
   "outputs": [],
   "source": [
    "clusters_i, contours, hierarchies = pcv.cluster_contours(img2, roi_objects, roi_obj_hierarchy, 3, 6)"
   ]
  },
  {
   "cell_type": "markdown",
   "metadata": {},
   "source": [
    "### STEP 13: select and split clustered contours to export into multiple images\n",
    "also checks if number of inputted filenames matches number of clustered contours  \n",
    "if no filenames, objects are numbered in order\n",
    "\n",
    "inputs:\n",
    "* img = masked RGB image\n",
    "* grouped_contour_indexes = indexes of clustered contours, output of 'cluster_contours' (STEP 12)\n",
    "* contours = contours of cluster, output of 'cluster_contours' (STEP 12)\n",
    "* hierarchy = object hierarchy (from STEP 12)\n",
    "* outdir = directory to export output images\n",
    "* file = name of input image to use as basename (uses filename from 'readimage')\n",
    "* filenames = (optional) txt file with list of filenames ordered from top to bottom/left to right"
   ]
  },
  {
   "cell_type": "code",
   "execution_count": null,
   "metadata": {},
   "outputs": [],
   "source": [
    "out = args.outdir\n",
    "\n",
    "output_path, imgs, masks = pcv.cluster_contour_splitimg(img2, \n",
    "                                                        clusters_i, \n",
    "                                                        contours, \n",
    "                                                        hierarchies, \n",
    "                                                        outdir = out, \n",
    "                                                        file = filename, \n",
    "                                                        filenames = None)"
   ]
  },
  {
   "cell_type": "markdown",
   "metadata": {},
   "source": [
    "## Export inverted binary image (input for momocs)"
   ]
  },
  {
   "cell_type": "code",
   "execution_count": null,
   "metadata": {},
   "outputs": [],
   "source": [
    "# hacky way to invert masks \n",
    "# based on code from pcv.cluster_contour_splitimg.py \n",
    "\n",
    "# get base filename \n",
    "# filebase = os.path.splitext(filename)[0]\n",
    "\n",
    "# create a vector for number of clusters\n",
    "# l = len(clusters_i)\n",
    "\n",
    "# create list object to store cluster names \n",
    "# namelist = []\n",
    "# for x in range(0, l):\n",
    "#     namelist.append(x)\n",
    "\n",
    "# create a list for output file names\n",
    "# group_names = []\n",
    "# for i, x in enumerate(namelist):\n",
    "#     invmaskname = str(filebase) + '_p' + str(i) + '_invmask' '.jpg'\n",
    "#     group_names.append(invmaskname)\n",
    "\n",
    "# for x in range(0, l):\n",
    "#         if len(masks[x]) > 0:\n",
    "#             inv_mask = pcv.invert(masks[x])\n",
    "#             savename = os.path.join(args.outdir, group_names[x])\n",
    "#             pcv.print_image(inv_mask, savename)"
   ]
  },
  {
   "cell_type": "code",
   "execution_count": null,
   "metadata": {},
   "outputs": [],
   "source": [
    "import pandas\n",
    "import inspect\n",
    "\n",
    "source = inspect.getsourcefile(pcv.cluster_contour_splitimg)"
   ]
  },
  {
   "cell_type": "code",
   "execution_count": null,
   "metadata": {},
   "outputs": [],
   "source": [
    "print(source)"
   ]
  },
  {
   "cell_type": "code",
   "execution_count": null,
   "metadata": {},
   "outputs": [],
   "source": []
  }
 ],
 "metadata": {
  "kernelspec": {
   "display_name": "Python 3",
   "language": "python",
   "name": "python3"
  },
  "language_info": {
   "codemirror_mode": {
    "name": "ipython",
    "version": 3
   },
   "file_extension": ".py",
   "mimetype": "text/x-python",
   "name": "python",
   "nbconvert_exporter": "python",
   "pygments_lexer": "ipython3",
   "version": "3.7.3"
  }
 },
 "nbformat": 4,
 "nbformat_minor": 2
}
